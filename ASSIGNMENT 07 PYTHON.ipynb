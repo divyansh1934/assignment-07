{
 "cells": [
  {
   "cell_type": "markdown",
   "id": "6bbc7228",
   "metadata": {},
   "source": [
    "#                                         ASSIGNMENT 07"
   ]
  },
  {
   "cell_type": "code",
   "execution_count": null,
   "id": "a4f71f13",
   "metadata": {},
   "outputs": [],
   "source": [
    "Q.1. Create two int type variables, apply addition, subtraction, division and multiplications and store the results in variables. Then print the data in the following format by calling the variables: \n",
    "First variable is __ & second variable is __. \n",
    "Addition: __ + __ = __ \n",
    "Subtraction: __ - __ = __ \n",
    "Multiplication: __ * __ = __ \n",
    "Division: __ / __ = __ "
   ]
  },
  {
   "cell_type": "code",
   "execution_count": 1,
   "id": "8bdef070",
   "metadata": {},
   "outputs": [
    {
     "name": "stdout",
     "output_type": "stream",
     "text": [
      "30\n",
      "-10\n",
      "200\n",
      "0.5\n"
     ]
    }
   ],
   "source": [
    "First_variable=10\n",
    "second_variable=20\n",
    "Addition= First_variable + second_variable\n",
    "print(Addition)\n",
    "Subtraction=First_variable-second_variable\n",
    "print(Subtraction)\n",
    "Multiplication= First_variable* second_variable\n",
    "print(Multiplication)\n",
    "Division= First_variable/second_variable\n",
    "print(Division)"
   ]
  },
  {
   "cell_type": "markdown",
   "id": "a9ed9d0d",
   "metadata": {},
   "source": [
    "Q.2. What is the difference between the following operators: \n",
    "(i) ‘/’ & ‘//’ \n",
    "(ii) ‘**’ & ‘^’ "
   ]
  },
  {
   "cell_type": "markdown",
   "id": "ff3d5e0e",
   "metadata": {},
   "source": [
    "'/': It is used as a division operator, which is used to divide two variable.\n",
    "'//': It is known as floor division operator, it also divides but rounds the result down to the nearest whole number. "
   ]
  },
  {
   "cell_type": "code",
   "execution_count": 2,
   "id": "48f92eba",
   "metadata": {},
   "outputs": [
    {
     "name": "stdout",
     "output_type": "stream",
     "text": [
      "7\n"
     ]
    }
   ],
   "source": [
    "x = 15\n",
    "y = 2\n",
    "\n",
    "print(x // y)"
   ]
  },
  {
   "cell_type": "code",
   "execution_count": 3,
   "id": "2cf57137",
   "metadata": {},
   "outputs": [
    {
     "name": "stdout",
     "output_type": "stream",
     "text": [
      "2.857142857142857\n"
     ]
    }
   ],
   "source": [
    "x = 12\n",
    "y = 4.2\n",
    "\n",
    "print(x / y)"
   ]
  },
  {
   "cell_type": "markdown",
   "id": "07852969",
   "metadata": {},
   "source": [
    "'**': It is used as a exponentation. Basically it returns the result of raising the first operand to the power of\n",
    "second operand."
   ]
  },
  {
   "cell_type": "code",
   "execution_count": 5,
   "id": "c66255e0",
   "metadata": {},
   "outputs": [
    {
     "name": "stdout",
     "output_type": "stream",
     "text": [
      "32\n"
     ]
    }
   ],
   "source": [
    "x = 2\n",
    "y = 5\n",
    "\n",
    "print(x ** y)"
   ]
  },
  {
   "cell_type": "markdown",
   "id": "25c8a04d",
   "metadata": {},
   "source": [
    "The ^ operator compares each bit and set it to 1 if only one is 1, otherwise (if both are 1 or both are 0) it is set to 0."
   ]
  },
  {
   "cell_type": "code",
   "execution_count": 6,
   "id": "bafbbb03",
   "metadata": {},
   "outputs": [
    {
     "name": "stdout",
     "output_type": "stream",
     "text": [
      "5\n"
     ]
    }
   ],
   "source": [
    "print(6 ^ 3)"
   ]
  },
  {
   "cell_type": "markdown",
   "id": "778153a5",
   "metadata": {},
   "source": [
    "Q.3. List the logical operators"
   ]
  },
  {
   "cell_type": "markdown",
   "id": "61c131d6",
   "metadata": {},
   "source": [
    "and : it returns true if both the inputs are true ,otherwise false.\n",
    "or:  it returns false if both the inputs are false.\n",
    "not: it return true if input is false and vice versa."
   ]
  },
  {
   "cell_type": "code",
   "execution_count": 10,
   "id": "61dc22c4",
   "metadata": {},
   "outputs": [
    {
     "name": "stdout",
     "output_type": "stream",
     "text": [
      "True\n",
      "True\n",
      "False\n"
     ]
    }
   ],
   "source": [
    "x = 5\n",
    "\n",
    "print(x > 3 and x < 10)\n",
    "print(x > 3 or x < 4)\n",
    "print(not(x > 3 and x < 10))"
   ]
  },
  {
   "cell_type": "markdown",
   "id": "eb4cd63b",
   "metadata": {},
   "source": [
    "Q.4. Explain right shift operator and left shift operator with examples. "
   ]
  },
  {
   "cell_type": "markdown",
   "id": "9201fd60",
   "metadata": {},
   "source": [
    "The << operator inserts the specified number of 0's from the right and let the same amount of leftmost bits fall off"
   ]
  },
  {
   "cell_type": "code",
   "execution_count": 11,
   "id": "9231e4c4",
   "metadata": {},
   "outputs": [
    {
     "name": "stdout",
     "output_type": "stream",
     "text": [
      "12\n"
     ]
    }
   ],
   "source": [
    "print(3<<2)"
   ]
  },
  {
   "cell_type": "markdown",
   "id": "0a5d6f88",
   "metadata": {},
   "source": [
    "The >> operator moves each bit the specified number of times to the right. Empty holes at the left are filled with 0's."
   ]
  },
  {
   "cell_type": "code",
   "execution_count": 12,
   "id": "b7588c82",
   "metadata": {},
   "outputs": [
    {
     "name": "stdout",
     "output_type": "stream",
     "text": [
      "0\n"
     ]
    }
   ],
   "source": [
    "print(3>>2)"
   ]
  },
  {
   "cell_type": "markdown",
   "id": "5da8c541",
   "metadata": {},
   "source": [
    "Q.5. Create a list containing int type data of length 15. Then write a code to check if 10 is present in the list or not.\n"
   ]
  },
  {
   "cell_type": "code",
   "execution_count": 26,
   "id": "24e33448",
   "metadata": {},
   "outputs": [
    {
     "name": "stdout",
     "output_type": "stream",
     "text": [
      " 10 is present in the list\n"
     ]
    }
   ],
   "source": [
    "l=[1,2,3,4,5,6,7,8,9,10,11,12,13,14,15]\n",
    "for i in range(len((l))):\n",
    "    if l[i]==10:\n",
    "        print(\" 10 is present in the list\")\n",
    "        break\n",
    "        "
   ]
  },
  {
   "cell_type": "code",
   "execution_count": null,
   "id": "be769c68",
   "metadata": {},
   "outputs": [],
   "source": []
  }
 ],
 "metadata": {
  "kernelspec": {
   "display_name": "Python 3 (ipykernel)",
   "language": "python",
   "name": "python3"
  },
  "language_info": {
   "codemirror_mode": {
    "name": "ipython",
    "version": 3
   },
   "file_extension": ".py",
   "mimetype": "text/x-python",
   "name": "python",
   "nbconvert_exporter": "python",
   "pygments_lexer": "ipython3",
   "version": "3.10.9"
  }
 },
 "nbformat": 4,
 "nbformat_minor": 5
}
